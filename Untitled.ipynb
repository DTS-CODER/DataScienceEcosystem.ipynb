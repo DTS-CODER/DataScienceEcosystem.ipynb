{
 "cells": [
  {
   "cell_type": "markdown",
   "id": "248a9027-fdca-4d6c-8dd7-34d9eb0a5559",
   "metadata": {},
   "source": [
    "Find the minimum and maximum value \n",
    "\n",
    "1. x= min (5, 10, 25)\n",
    "2. y= min (5, 10, 25)\n",
    "3.\n",
    "4. print(x)\n",
    "5. print(y)\n"
   ]
  }
 ],
 "metadata": {
  "kernelspec": {
   "display_name": "Python [conda env:base] *",
   "language": "python",
   "name": "conda-base-py"
  },
  "language_info": {
   "codemirror_mode": {
    "name": "ipython",
    "version": 3
   },
   "file_extension": ".py",
   "mimetype": "text/x-python",
   "name": "python",
   "nbconvert_exporter": "python",
   "pygments_lexer": "ipython3",
   "version": "3.12.7"
  }
 },
 "nbformat": 4,
 "nbformat_minor": 5
}
